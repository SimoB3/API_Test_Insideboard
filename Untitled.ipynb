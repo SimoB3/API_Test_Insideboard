{
 "cells": [
  {
   "cell_type": "code",
   "execution_count": 1,
   "id": "9f55e689",
   "metadata": {},
   "outputs": [],
   "source": [
    "import pandas as pd"
   ]
  },
  {
   "cell_type": "code",
   "execution_count": 24,
   "id": "37cd6ec4",
   "metadata": {},
   "outputs": [],
   "source": [
    "items = pd.read_csv(\"api/data/items.csv\")\n",
    "ventes = pd.read_csv(\"transactions.csv\")\n",
    "customers = pd.read_csv(\"api/data/clients.csv\")"
   ]
  },
  {
   "cell_type": "markdown",
   "id": "a63358d5",
   "metadata": {},
   "source": [
    "# N ITEMS"
   ]
  },
  {
   "cell_type": "code",
   "execution_count": 12,
   "id": "6304444b",
   "metadata": {
    "scrolled": false
   },
   "outputs": [],
   "source": [
    "items.rename(columns={\"id\": \"item_id\"}, inplace=True)"
   ]
  },
  {
   "cell_type": "code",
   "execution_count": 13,
   "id": "ec594d9c",
   "metadata": {
    "scrolled": true
   },
   "outputs": [],
   "source": [
    "most_sell = ventes.groupby(['item_id'])['quantity'].sum().reset_index(name='total_sold').sort_values(by='total_sold', ascending=False)"
   ]
  },
  {
   "cell_type": "code",
   "execution_count": 14,
   "id": "5fce8d8c",
   "metadata": {
    "scrolled": true
   },
   "outputs": [],
   "source": [
    "total_ventes = items.merge(most_sell, how='inner', on='item_id')"
   ]
  },
  {
   "cell_type": "code",
   "execution_count": 15,
   "id": "b9959690",
   "metadata": {},
   "outputs": [],
   "source": [
    "total_ventes.sort_values('total_sold', ascending =False, inplace = True)\n",
    "total_ventes = total_ventes.head(10)"
   ]
  },
  {
   "cell_type": "markdown",
   "id": "a464bb9f",
   "metadata": {},
   "source": [
    "# N CLIENT"
   ]
  },
  {
   "cell_type": "code",
   "execution_count": 25,
   "id": "b1c687ee",
   "metadata": {},
   "outputs": [],
   "source": [
    "clients = ventes.copy()"
   ]
  },
  {
   "cell_type": "code",
   "execution_count": 26,
   "id": "c4ad72ef",
   "metadata": {
    "scrolled": true
   },
   "outputs": [],
   "source": [
    "clients['time'] = clients['time'].apply(pd.to_datetime)"
   ]
  },
  {
   "cell_type": "code",
   "execution_count": 27,
   "id": "7428c951",
   "metadata": {},
   "outputs": [],
   "source": [
    "clients['time'] = pd.to_datetime(clients['time']).dt.date"
   ]
  },
  {
   "cell_type": "code",
   "execution_count": 28,
   "id": "4b0fbf02",
   "metadata": {},
   "outputs": [],
   "source": [
    "clients = clients.drop_duplicates(subset=[\"client_id\", \"time\"], keep=False)"
   ]
  },
  {
   "cell_type": "code",
   "execution_count": 26,
   "id": "85b38bd4",
   "metadata": {},
   "outputs": [],
   "source": [
    "clients = clients.groupby(['client_id'])['client_id'].size().reset_index(name='quantity')"
   ]
  },
  {
   "cell_type": "code",
   "execution_count": 27,
   "id": "e21dedc8",
   "metadata": {},
   "outputs": [],
   "source": [
    "customers.rename(columns={\"id\": \"client_id\"}, inplace=True)"
   ]
  },
  {
   "cell_type": "code",
   "execution_count": 28,
   "id": "d7d981e3",
   "metadata": {},
   "outputs": [],
   "source": [
    "top_client = customers.merge(clients, how = \"left\", on =\"client_id\").sort_values(by='quantity', ascending=False)"
   ]
  },
  {
   "cell_type": "markdown",
   "id": "e4ad1003",
   "metadata": {},
   "source": [
    "# TRANCHE D'AGE"
   ]
  },
  {
   "cell_type": "code",
   "execution_count": 29,
   "id": "d5ee5fc1",
   "metadata": {},
   "outputs": [],
   "source": [
    "customers.rename(columns={\"id\": \"client_id\"}, inplace=True)"
   ]
  },
  {
   "cell_type": "code",
   "execution_count": 31,
   "id": "77cc73ee",
   "metadata": {},
   "outputs": [],
   "source": [
    "test = clients[['client_id', 'time', 'quantity']].merge(customers[['birthdate', 'client_id', 'sex']], how = \"left\", on = \"client_id\")"
   ]
  },
  {
   "cell_type": "code",
   "execution_count": 38,
   "id": "70ce71cb",
   "metadata": {},
   "outputs": [
    {
     "data": {
      "text/html": [
       "<div>\n",
       "<style scoped>\n",
       "    .dataframe tbody tr th:only-of-type {\n",
       "        vertical-align: middle;\n",
       "    }\n",
       "\n",
       "    .dataframe tbody tr th {\n",
       "        vertical-align: top;\n",
       "    }\n",
       "\n",
       "    .dataframe thead th {\n",
       "        text-align: right;\n",
       "    }\n",
       "</style>\n",
       "<table border=\"1\" class=\"dataframe\">\n",
       "  <thead>\n",
       "    <tr style=\"text-align: right;\">\n",
       "      <th></th>\n",
       "      <th>client_id</th>\n",
       "      <th>time</th>\n",
       "      <th>quantity</th>\n",
       "      <th>birthdate</th>\n",
       "      <th>sex</th>\n",
       "    </tr>\n",
       "  </thead>\n",
       "  <tbody>\n",
       "    <tr>\n",
       "      <th>0</th>\n",
       "      <td>968d18b2-6551-4967-83cd-cd6626474666</td>\n",
       "      <td>2020-01-01</td>\n",
       "      <td>8</td>\n",
       "      <td>1974-03-29</td>\n",
       "      <td>F</td>\n",
       "    </tr>\n",
       "    <tr>\n",
       "      <th>1</th>\n",
       "      <td>4b997bba-897c-40a6-b019-46a9bccdb7b4</td>\n",
       "      <td>2020-01-01</td>\n",
       "      <td>8</td>\n",
       "      <td>1982-01-15</td>\n",
       "      <td>M</td>\n",
       "    </tr>\n",
       "    <tr>\n",
       "      <th>2</th>\n",
       "      <td>cb4285fb-a520-4958-b181-65bbe567932b</td>\n",
       "      <td>2020-01-01</td>\n",
       "      <td>8</td>\n",
       "      <td>1970-11-29</td>\n",
       "      <td>F</td>\n",
       "    </tr>\n",
       "    <tr>\n",
       "      <th>3</th>\n",
       "      <td>82da4929-4f6d-46fb-b82f-f92e1a987030</td>\n",
       "      <td>2020-01-01</td>\n",
       "      <td>10</td>\n",
       "      <td>1952-12-13</td>\n",
       "      <td>M</td>\n",
       "    </tr>\n",
       "    <tr>\n",
       "      <th>4</th>\n",
       "      <td>eb8976ad-b19c-4a8f-8883-a703d0a89852</td>\n",
       "      <td>2020-01-01</td>\n",
       "      <td>6</td>\n",
       "      <td>1981-03-30</td>\n",
       "      <td>F</td>\n",
       "    </tr>\n",
       "    <tr>\n",
       "      <th>...</th>\n",
       "      <td>...</td>\n",
       "      <td>...</td>\n",
       "      <td>...</td>\n",
       "      <td>...</td>\n",
       "      <td>...</td>\n",
       "    </tr>\n",
       "    <tr>\n",
       "      <th>9751</th>\n",
       "      <td>ee47fcbe-f07c-4885-8c33-c52ca57f24dd</td>\n",
       "      <td>2020-12-31</td>\n",
       "      <td>1</td>\n",
       "      <td>1971-12-11</td>\n",
       "      <td>M</td>\n",
       "    </tr>\n",
       "    <tr>\n",
       "      <th>9752</th>\n",
       "      <td>9b7c41ef-5840-469e-90ed-a054bc9fb5aa</td>\n",
       "      <td>2020-12-31</td>\n",
       "      <td>9</td>\n",
       "      <td>1990-12-28</td>\n",
       "      <td>M</td>\n",
       "    </tr>\n",
       "    <tr>\n",
       "      <th>9753</th>\n",
       "      <td>e083af2b-a985-428a-a62e-408dbcfb772f</td>\n",
       "      <td>2020-12-31</td>\n",
       "      <td>5</td>\n",
       "      <td>1990-09-22</td>\n",
       "      <td>M</td>\n",
       "    </tr>\n",
       "    <tr>\n",
       "      <th>9754</th>\n",
       "      <td>e436b987-ecc8-45f1-b165-c6cec37f997b</td>\n",
       "      <td>2020-12-31</td>\n",
       "      <td>4</td>\n",
       "      <td>1955-02-04</td>\n",
       "      <td>M</td>\n",
       "    </tr>\n",
       "    <tr>\n",
       "      <th>9755</th>\n",
       "      <td>4f125a07-ecf8-4000-927d-c0b208c9fc2c</td>\n",
       "      <td>2020-12-31</td>\n",
       "      <td>6</td>\n",
       "      <td>1980-06-03</td>\n",
       "      <td>M</td>\n",
       "    </tr>\n",
       "  </tbody>\n",
       "</table>\n",
       "<p>9756 rows × 5 columns</p>\n",
       "</div>"
      ],
      "text/plain": [
       "                                 client_id        time  quantity   birthdate  \\\n",
       "0     968d18b2-6551-4967-83cd-cd6626474666  2020-01-01         8  1974-03-29   \n",
       "1     4b997bba-897c-40a6-b019-46a9bccdb7b4  2020-01-01         8  1982-01-15   \n",
       "2     cb4285fb-a520-4958-b181-65bbe567932b  2020-01-01         8  1970-11-29   \n",
       "3     82da4929-4f6d-46fb-b82f-f92e1a987030  2020-01-01        10  1952-12-13   \n",
       "4     eb8976ad-b19c-4a8f-8883-a703d0a89852  2020-01-01         6  1981-03-30   \n",
       "...                                    ...         ...       ...         ...   \n",
       "9751  ee47fcbe-f07c-4885-8c33-c52ca57f24dd  2020-12-31         1  1971-12-11   \n",
       "9752  9b7c41ef-5840-469e-90ed-a054bc9fb5aa  2020-12-31         9  1990-12-28   \n",
       "9753  e083af2b-a985-428a-a62e-408dbcfb772f  2020-12-31         5  1990-09-22   \n",
       "9754  e436b987-ecc8-45f1-b165-c6cec37f997b  2020-12-31         4  1955-02-04   \n",
       "9755  4f125a07-ecf8-4000-927d-c0b208c9fc2c  2020-12-31         6  1980-06-03   \n",
       "\n",
       "     sex  \n",
       "0      F  \n",
       "1      M  \n",
       "2      F  \n",
       "3      M  \n",
       "4      F  \n",
       "...   ..  \n",
       "9751   M  \n",
       "9752   M  \n",
       "9753   M  \n",
       "9754   M  \n",
       "9755   M  \n",
       "\n",
       "[9756 rows x 5 columns]"
      ]
     },
     "execution_count": 38,
     "metadata": {},
     "output_type": "execute_result"
    }
   ],
   "source": [
    "test"
   ]
  },
  {
   "cell_type": "code",
   "execution_count": 39,
   "id": "88ac390b",
   "metadata": {
    "scrolled": true
   },
   "outputs": [],
   "source": [
    "test['birthdate'] = test['birthdate'].apply(pd.to_datetime)"
   ]
  },
  {
   "cell_type": "code",
   "execution_count": 42,
   "id": "2034cf87",
   "metadata": {},
   "outputs": [],
   "source": [
    "now = pd.to_datetime('now')\n",
    "now\n",
    "# Timestamp('2019-04-14 00:00:43.105892')\n",
    "\n",
    "test['age'] = (now - test['birthdate']).astype('<m8[Y]') "
   ]
  },
  {
   "cell_type": "code",
   "execution_count": 43,
   "id": "5d7a6110",
   "metadata": {},
   "outputs": [
    {
     "data": {
      "text/html": [
       "<div>\n",
       "<style scoped>\n",
       "    .dataframe tbody tr th:only-of-type {\n",
       "        vertical-align: middle;\n",
       "    }\n",
       "\n",
       "    .dataframe tbody tr th {\n",
       "        vertical-align: top;\n",
       "    }\n",
       "\n",
       "    .dataframe thead th {\n",
       "        text-align: right;\n",
       "    }\n",
       "</style>\n",
       "<table border=\"1\" class=\"dataframe\">\n",
       "  <thead>\n",
       "    <tr style=\"text-align: right;\">\n",
       "      <th></th>\n",
       "      <th>client_id</th>\n",
       "      <th>time</th>\n",
       "      <th>quantity</th>\n",
       "      <th>birthdate</th>\n",
       "      <th>sex</th>\n",
       "      <th>age</th>\n",
       "    </tr>\n",
       "  </thead>\n",
       "  <tbody>\n",
       "    <tr>\n",
       "      <th>0</th>\n",
       "      <td>968d18b2-6551-4967-83cd-cd6626474666</td>\n",
       "      <td>2020-01-01</td>\n",
       "      <td>8</td>\n",
       "      <td>1974-03-29</td>\n",
       "      <td>F</td>\n",
       "      <td>48.0</td>\n",
       "    </tr>\n",
       "    <tr>\n",
       "      <th>1</th>\n",
       "      <td>4b997bba-897c-40a6-b019-46a9bccdb7b4</td>\n",
       "      <td>2020-01-01</td>\n",
       "      <td>8</td>\n",
       "      <td>1982-01-15</td>\n",
       "      <td>M</td>\n",
       "      <td>40.0</td>\n",
       "    </tr>\n",
       "    <tr>\n",
       "      <th>2</th>\n",
       "      <td>cb4285fb-a520-4958-b181-65bbe567932b</td>\n",
       "      <td>2020-01-01</td>\n",
       "      <td>8</td>\n",
       "      <td>1970-11-29</td>\n",
       "      <td>F</td>\n",
       "      <td>51.0</td>\n",
       "    </tr>\n",
       "    <tr>\n",
       "      <th>3</th>\n",
       "      <td>82da4929-4f6d-46fb-b82f-f92e1a987030</td>\n",
       "      <td>2020-01-01</td>\n",
       "      <td>10</td>\n",
       "      <td>1952-12-13</td>\n",
       "      <td>M</td>\n",
       "      <td>69.0</td>\n",
       "    </tr>\n",
       "    <tr>\n",
       "      <th>4</th>\n",
       "      <td>eb8976ad-b19c-4a8f-8883-a703d0a89852</td>\n",
       "      <td>2020-01-01</td>\n",
       "      <td>6</td>\n",
       "      <td>1981-03-30</td>\n",
       "      <td>F</td>\n",
       "      <td>41.0</td>\n",
       "    </tr>\n",
       "    <tr>\n",
       "      <th>...</th>\n",
       "      <td>...</td>\n",
       "      <td>...</td>\n",
       "      <td>...</td>\n",
       "      <td>...</td>\n",
       "      <td>...</td>\n",
       "      <td>...</td>\n",
       "    </tr>\n",
       "    <tr>\n",
       "      <th>9751</th>\n",
       "      <td>ee47fcbe-f07c-4885-8c33-c52ca57f24dd</td>\n",
       "      <td>2020-12-31</td>\n",
       "      <td>1</td>\n",
       "      <td>1971-12-11</td>\n",
       "      <td>M</td>\n",
       "      <td>50.0</td>\n",
       "    </tr>\n",
       "    <tr>\n",
       "      <th>9752</th>\n",
       "      <td>9b7c41ef-5840-469e-90ed-a054bc9fb5aa</td>\n",
       "      <td>2020-12-31</td>\n",
       "      <td>9</td>\n",
       "      <td>1990-12-28</td>\n",
       "      <td>M</td>\n",
       "      <td>31.0</td>\n",
       "    </tr>\n",
       "    <tr>\n",
       "      <th>9753</th>\n",
       "      <td>e083af2b-a985-428a-a62e-408dbcfb772f</td>\n",
       "      <td>2020-12-31</td>\n",
       "      <td>5</td>\n",
       "      <td>1990-09-22</td>\n",
       "      <td>M</td>\n",
       "      <td>31.0</td>\n",
       "    </tr>\n",
       "    <tr>\n",
       "      <th>9754</th>\n",
       "      <td>e436b987-ecc8-45f1-b165-c6cec37f997b</td>\n",
       "      <td>2020-12-31</td>\n",
       "      <td>4</td>\n",
       "      <td>1955-02-04</td>\n",
       "      <td>M</td>\n",
       "      <td>67.0</td>\n",
       "    </tr>\n",
       "    <tr>\n",
       "      <th>9755</th>\n",
       "      <td>4f125a07-ecf8-4000-927d-c0b208c9fc2c</td>\n",
       "      <td>2020-12-31</td>\n",
       "      <td>6</td>\n",
       "      <td>1980-06-03</td>\n",
       "      <td>M</td>\n",
       "      <td>42.0</td>\n",
       "    </tr>\n",
       "  </tbody>\n",
       "</table>\n",
       "<p>9756 rows × 6 columns</p>\n",
       "</div>"
      ],
      "text/plain": [
       "                                 client_id        time  quantity  birthdate  \\\n",
       "0     968d18b2-6551-4967-83cd-cd6626474666  2020-01-01         8 1974-03-29   \n",
       "1     4b997bba-897c-40a6-b019-46a9bccdb7b4  2020-01-01         8 1982-01-15   \n",
       "2     cb4285fb-a520-4958-b181-65bbe567932b  2020-01-01         8 1970-11-29   \n",
       "3     82da4929-4f6d-46fb-b82f-f92e1a987030  2020-01-01        10 1952-12-13   \n",
       "4     eb8976ad-b19c-4a8f-8883-a703d0a89852  2020-01-01         6 1981-03-30   \n",
       "...                                    ...         ...       ...        ...   \n",
       "9751  ee47fcbe-f07c-4885-8c33-c52ca57f24dd  2020-12-31         1 1971-12-11   \n",
       "9752  9b7c41ef-5840-469e-90ed-a054bc9fb5aa  2020-12-31         9 1990-12-28   \n",
       "9753  e083af2b-a985-428a-a62e-408dbcfb772f  2020-12-31         5 1990-09-22   \n",
       "9754  e436b987-ecc8-45f1-b165-c6cec37f997b  2020-12-31         4 1955-02-04   \n",
       "9755  4f125a07-ecf8-4000-927d-c0b208c9fc2c  2020-12-31         6 1980-06-03   \n",
       "\n",
       "     sex   age  \n",
       "0      F  48.0  \n",
       "1      M  40.0  \n",
       "2      F  51.0  \n",
       "3      M  69.0  \n",
       "4      F  41.0  \n",
       "...   ..   ...  \n",
       "9751   M  50.0  \n",
       "9752   M  31.0  \n",
       "9753   M  31.0  \n",
       "9754   M  67.0  \n",
       "9755   M  42.0  \n",
       "\n",
       "[9756 rows x 6 columns]"
      ]
     },
     "execution_count": 43,
     "metadata": {},
     "output_type": "execute_result"
    }
   ],
   "source": [
    "test"
   ]
  },
  {
   "cell_type": "markdown",
   "id": "06f6362a",
   "metadata": {},
   "source": [
    "# TOTAL SPENT"
   ]
  },
  {
   "cell_type": "code",
   "execution_count": 26,
   "id": "1c4419b7",
   "metadata": {},
   "outputs": [],
   "source": [
    "total = ventes.merge(items, how=\"left\", on = \"item_id\")"
   ]
  },
  {
   "cell_type": "code",
   "execution_count": 27,
   "id": "665eb482",
   "metadata": {},
   "outputs": [],
   "source": [
    "total[\"prix_total\"] = total['price'] * total['quantity']"
   ]
  },
  {
   "cell_type": "code",
   "execution_count": 28,
   "id": "dc1ae7a5",
   "metadata": {},
   "outputs": [],
   "source": [
    "total = total.groupby(['client_id'])['prix_total'].sum().reset_index(name='prix_total').sort_values(by='prix_total', ascending=False)"
   ]
  },
  {
   "cell_type": "code",
   "execution_count": 29,
   "id": "eea66665",
   "metadata": {},
   "outputs": [],
   "source": [
    "conso = customers.merge(total, how = \"left\", on = \"client_id\").sort_values(by='prix_total', ascending=False)"
   ]
  },
  {
   "cell_type": "code",
   "execution_count": 30,
   "id": "70a28a6f",
   "metadata": {
    "scrolled": true
   },
   "outputs": [
    {
     "data": {
      "text/html": [
       "<div>\n",
       "<style scoped>\n",
       "    .dataframe tbody tr th:only-of-type {\n",
       "        vertical-align: middle;\n",
       "    }\n",
       "\n",
       "    .dataframe tbody tr th {\n",
       "        vertical-align: top;\n",
       "    }\n",
       "\n",
       "    .dataframe thead th {\n",
       "        text-align: right;\n",
       "    }\n",
       "</style>\n",
       "<table border=\"1\" class=\"dataframe\">\n",
       "  <thead>\n",
       "    <tr style=\"text-align: right;\">\n",
       "      <th></th>\n",
       "      <th>username</th>\n",
       "      <th>name</th>\n",
       "      <th>sex</th>\n",
       "      <th>address</th>\n",
       "      <th>mail</th>\n",
       "      <th>birthdate</th>\n",
       "      <th>client_id</th>\n",
       "      <th>prix_total</th>\n",
       "    </tr>\n",
       "  </thead>\n",
       "  <tbody>\n",
       "    <tr>\n",
       "      <th>220</th>\n",
       "      <td>allen00</td>\n",
       "      <td>Robert Stuart</td>\n",
       "      <td>M</td>\n",
       "      <td>373 Christopher Harbor\\nEast Lisaberg, ME 18292</td>\n",
       "      <td>dustin21@hotmail.com</td>\n",
       "      <td>1976-12-22</td>\n",
       "      <td>46a0209d-3ad8-4e15-a794-93909f7a5287</td>\n",
       "      <td>435817.37</td>\n",
       "    </tr>\n",
       "    <tr>\n",
       "      <th>716</th>\n",
       "      <td>sharpchristopher</td>\n",
       "      <td>Ernest Frank</td>\n",
       "      <td>M</td>\n",
       "      <td>94435 Ricardo Viaduct Apt. 107\\nNorth Derrick,...</td>\n",
       "      <td>jbyrd@gmail.com</td>\n",
       "      <td>1979-11-17</td>\n",
       "      <td>847f6d89-6e94-4524-b692-b81c93cd8c75</td>\n",
       "      <td>363452.59</td>\n",
       "    </tr>\n",
       "    <tr>\n",
       "      <th>441</th>\n",
       "      <td>longjennifer</td>\n",
       "      <td>Brianna Higgins</td>\n",
       "      <td>F</td>\n",
       "      <td>7601 Gary Expressway\\nSouth Kimberlyborough, M...</td>\n",
       "      <td>parkerdavid@gmail.com</td>\n",
       "      <td>1980-04-24</td>\n",
       "      <td>1c390cb1-3523-4ca4-9eff-bc66bad56c41</td>\n",
       "      <td>360246.43</td>\n",
       "    </tr>\n",
       "    <tr>\n",
       "      <th>993</th>\n",
       "      <td>james73</td>\n",
       "      <td>John Hicks</td>\n",
       "      <td>M</td>\n",
       "      <td>319 Bean Underpass Suite 533\\nEricshire, WV 15102</td>\n",
       "      <td>lopezmelissa@hotmail.com</td>\n",
       "      <td>1965-09-09</td>\n",
       "      <td>155cf470-0384-4384-be88-c09d7dff3219</td>\n",
       "      <td>357266.50</td>\n",
       "    </tr>\n",
       "    <tr>\n",
       "      <th>903</th>\n",
       "      <td>gregory56</td>\n",
       "      <td>Carrie Cabrera</td>\n",
       "      <td>F</td>\n",
       "      <td>593 Montgomery Common Suite 032\\nPort Josephfu...</td>\n",
       "      <td>walterdanny@hotmail.com</td>\n",
       "      <td>1996-09-10</td>\n",
       "      <td>1e92e3f0-df1a-4b62-a069-a80194baaaf7</td>\n",
       "      <td>355524.58</td>\n",
       "    </tr>\n",
       "    <tr>\n",
       "      <th>...</th>\n",
       "      <td>...</td>\n",
       "      <td>...</td>\n",
       "      <td>...</td>\n",
       "      <td>...</td>\n",
       "      <td>...</td>\n",
       "      <td>...</td>\n",
       "      <td>...</td>\n",
       "      <td>...</td>\n",
       "    </tr>\n",
       "    <tr>\n",
       "      <th>181</th>\n",
       "      <td>nicole75</td>\n",
       "      <td>Angela Hernandez</td>\n",
       "      <td>F</td>\n",
       "      <td>025 Pierce Crossroad\\nTammyhaven, FL 32473</td>\n",
       "      <td>jasongomez@hotmail.com</td>\n",
       "      <td>1992-04-19</td>\n",
       "      <td>6473e36d-9f70-43ff-a828-01d2de8600be</td>\n",
       "      <td>28704.52</td>\n",
       "    </tr>\n",
       "    <tr>\n",
       "      <th>800</th>\n",
       "      <td>hayesantonio</td>\n",
       "      <td>Ian Gordon</td>\n",
       "      <td>M</td>\n",
       "      <td>17195 Hall Walks\\nJenniferstad, MT 49999</td>\n",
       "      <td>patricia16@gmail.com</td>\n",
       "      <td>1993-10-23</td>\n",
       "      <td>6101a975-57c5-4d9b-9e8c-94060ae88cb9</td>\n",
       "      <td>27173.57</td>\n",
       "    </tr>\n",
       "    <tr>\n",
       "      <th>698</th>\n",
       "      <td>jacobcook</td>\n",
       "      <td>Wayne Hall</td>\n",
       "      <td>M</td>\n",
       "      <td>85886 Patterson Prairie Suite 800\\nPattonport,...</td>\n",
       "      <td>nancycarter@hotmail.com</td>\n",
       "      <td>1962-09-20</td>\n",
       "      <td>b50c8e3f-56fd-434d-bc6e-5482c51e0524</td>\n",
       "      <td>25751.04</td>\n",
       "    </tr>\n",
       "    <tr>\n",
       "      <th>929</th>\n",
       "      <td>deleonkristopher</td>\n",
       "      <td>Amanda Mercer</td>\n",
       "      <td>F</td>\n",
       "      <td>9822 Young Parks\\nWest Joseph, WI 58438</td>\n",
       "      <td>ekelly@hotmail.com</td>\n",
       "      <td>1986-05-02</td>\n",
       "      <td>caac7bc6-13f3-4e51-b142-4a86793fbda2</td>\n",
       "      <td>23589.54</td>\n",
       "    </tr>\n",
       "    <tr>\n",
       "      <th>77</th>\n",
       "      <td>carrollcameron</td>\n",
       "      <td>Keith Horne</td>\n",
       "      <td>M</td>\n",
       "      <td>85948 Colleen Overpass\\nWest Barbara, MN 91085</td>\n",
       "      <td>eporter@yahoo.com</td>\n",
       "      <td>1977-10-13</td>\n",
       "      <td>ff972172-db7b-403d-9d8e-b87fcbc99b7a</td>\n",
       "      <td>22296.85</td>\n",
       "    </tr>\n",
       "  </tbody>\n",
       "</table>\n",
       "<p>1000 rows × 8 columns</p>\n",
       "</div>"
      ],
      "text/plain": [
       "             username              name sex  \\\n",
       "220           allen00     Robert Stuart   M   \n",
       "716  sharpchristopher      Ernest Frank   M   \n",
       "441      longjennifer   Brianna Higgins   F   \n",
       "993           james73        John Hicks   M   \n",
       "903         gregory56    Carrie Cabrera   F   \n",
       "..                ...               ...  ..   \n",
       "181          nicole75  Angela Hernandez   F   \n",
       "800      hayesantonio        Ian Gordon   M   \n",
       "698         jacobcook        Wayne Hall   M   \n",
       "929  deleonkristopher     Amanda Mercer   F   \n",
       "77     carrollcameron       Keith Horne   M   \n",
       "\n",
       "                                               address  \\\n",
       "220    373 Christopher Harbor\\nEast Lisaberg, ME 18292   \n",
       "716  94435 Ricardo Viaduct Apt. 107\\nNorth Derrick,...   \n",
       "441  7601 Gary Expressway\\nSouth Kimberlyborough, M...   \n",
       "993  319 Bean Underpass Suite 533\\nEricshire, WV 15102   \n",
       "903  593 Montgomery Common Suite 032\\nPort Josephfu...   \n",
       "..                                                 ...   \n",
       "181         025 Pierce Crossroad\\nTammyhaven, FL 32473   \n",
       "800           17195 Hall Walks\\nJenniferstad, MT 49999   \n",
       "698  85886 Patterson Prairie Suite 800\\nPattonport,...   \n",
       "929            9822 Young Parks\\nWest Joseph, WI 58438   \n",
       "77      85948 Colleen Overpass\\nWest Barbara, MN 91085   \n",
       "\n",
       "                         mail   birthdate  \\\n",
       "220      dustin21@hotmail.com  1976-12-22   \n",
       "716           jbyrd@gmail.com  1979-11-17   \n",
       "441     parkerdavid@gmail.com  1980-04-24   \n",
       "993  lopezmelissa@hotmail.com  1965-09-09   \n",
       "903   walterdanny@hotmail.com  1996-09-10   \n",
       "..                        ...         ...   \n",
       "181    jasongomez@hotmail.com  1992-04-19   \n",
       "800      patricia16@gmail.com  1993-10-23   \n",
       "698   nancycarter@hotmail.com  1962-09-20   \n",
       "929        ekelly@hotmail.com  1986-05-02   \n",
       "77          eporter@yahoo.com  1977-10-13   \n",
       "\n",
       "                                client_id  prix_total  \n",
       "220  46a0209d-3ad8-4e15-a794-93909f7a5287   435817.37  \n",
       "716  847f6d89-6e94-4524-b692-b81c93cd8c75   363452.59  \n",
       "441  1c390cb1-3523-4ca4-9eff-bc66bad56c41   360246.43  \n",
       "993  155cf470-0384-4384-be88-c09d7dff3219   357266.50  \n",
       "903  1e92e3f0-df1a-4b62-a069-a80194baaaf7   355524.58  \n",
       "..                                    ...         ...  \n",
       "181  6473e36d-9f70-43ff-a828-01d2de8600be    28704.52  \n",
       "800  6101a975-57c5-4d9b-9e8c-94060ae88cb9    27173.57  \n",
       "698  b50c8e3f-56fd-434d-bc6e-5482c51e0524    25751.04  \n",
       "929  caac7bc6-13f3-4e51-b142-4a86793fbda2    23589.54  \n",
       "77   ff972172-db7b-403d-9d8e-b87fcbc99b7a    22296.85  \n",
       "\n",
       "[1000 rows x 8 columns]"
      ]
     },
     "execution_count": 30,
     "metadata": {},
     "output_type": "execute_result"
    }
   ],
   "source": [
    "conso"
   ]
  },
  {
   "cell_type": "markdown",
   "id": "2b7b8d83",
   "metadata": {},
   "source": [
    "# VENTES PAR HEURES ET JOURS"
   ]
  },
  {
   "cell_type": "code",
   "execution_count": 47,
   "id": "b012475a",
   "metadata": {
    "scrolled": true
   },
   "outputs": [],
   "source": [
    "ventes['time'] = ventes['time'].apply(pd.to_datetime)"
   ]
  },
  {
   "cell_type": "code",
   "execution_count": 48,
   "id": "06986f3b",
   "metadata": {},
   "outputs": [],
   "source": [
    "ventes['Dates'] = pd.to_datetime(ventes['time']).dt.date.apply(pd.to_datetime).dt.day_name()\n",
    "ventes['Time'] = pd.to_datetime(ventes['time']).dt.time"
   ]
  },
  {
   "cell_type": "code",
   "execution_count": 49,
   "id": "175bf2b8",
   "metadata": {
    "scrolled": true
   },
   "outputs": [],
   "source": [
    "ventes['hour'] = ventes['time'].dt.hour"
   ]
  },
  {
   "cell_type": "code",
   "execution_count": 50,
   "id": "b17ed86f",
   "metadata": {
    "scrolled": true
   },
   "outputs": [],
   "source": [
    "ventes.drop(columns=['item_id', 'client_id', 'time', 'Time'], inplace = True)"
   ]
  },
  {
   "cell_type": "code",
   "execution_count": 51,
   "id": "55cd608a",
   "metadata": {},
   "outputs": [],
   "source": [
    "ventes = ventes.groupby(['Dates', 'hour']).size().reset_index(name='ventes')\n"
   ]
  },
  {
   "cell_type": "code",
   "execution_count": 57,
   "id": "bcd0ee64",
   "metadata": {},
   "outputs": [
    {
     "data": {
      "text/html": [
       "<div>\n",
       "<style scoped>\n",
       "    .dataframe tbody tr th:only-of-type {\n",
       "        vertical-align: middle;\n",
       "    }\n",
       "\n",
       "    .dataframe tbody tr th {\n",
       "        vertical-align: top;\n",
       "    }\n",
       "\n",
       "    .dataframe thead th {\n",
       "        text-align: right;\n",
       "    }\n",
       "</style>\n",
       "<table border=\"1\" class=\"dataframe\">\n",
       "  <thead>\n",
       "    <tr style=\"text-align: right;\">\n",
       "      <th></th>\n",
       "      <th>Dates</th>\n",
       "      <th>hour</th>\n",
       "      <th>ventes</th>\n",
       "    </tr>\n",
       "  </thead>\n",
       "  <tbody>\n",
       "    <tr>\n",
       "      <th>12</th>\n",
       "      <td>Friday</td>\n",
       "      <td>12</td>\n",
       "      <td>61</td>\n",
       "    </tr>\n",
       "  </tbody>\n",
       "</table>\n",
       "</div>"
      ],
      "text/plain": [
       "     Dates  hour  ventes\n",
       "12  Friday    12      61"
      ]
     },
     "execution_count": 57,
     "metadata": {},
     "output_type": "execute_result"
    }
   ],
   "source": [
    "ventes.query(\"Dates=='Friday' & hour==12\")"
   ]
  },
  {
   "cell_type": "code",
   "execution_count": null,
   "id": "ee310167",
   "metadata": {},
   "outputs": [],
   "source": [
    "\n",
    "posts = json.loads('{\"items\":' + total_ventes.to_json(orient='records', date_format='iso') + '}')\n",
    "\n",
    "print(posts['items']) # see the results"
   ]
  }
 ],
 "metadata": {
  "kernelspec": {
   "display_name": "Python 3 (ipykernel)",
   "language": "python",
   "name": "python3"
  },
  "language_info": {
   "codemirror_mode": {
    "name": "ipython",
    "version": 3
   },
   "file_extension": ".py",
   "mimetype": "text/x-python",
   "name": "python",
   "nbconvert_exporter": "python",
   "pygments_lexer": "ipython3",
   "version": "3.8.12"
  },
  "toc": {
   "base_numbering": 1,
   "nav_menu": {},
   "number_sections": true,
   "sideBar": true,
   "skip_h1_title": false,
   "title_cell": "Table of Contents",
   "title_sidebar": "Contents",
   "toc_cell": false,
   "toc_position": {},
   "toc_section_display": true,
   "toc_window_display": false
  }
 },
 "nbformat": 4,
 "nbformat_minor": 5
}
